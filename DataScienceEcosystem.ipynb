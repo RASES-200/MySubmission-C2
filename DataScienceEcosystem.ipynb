{
 "cells": [
  {
   "cell_type": "markdown",
   "id": "d3618f98-b7a3-416c-8eff-6f01cecbc88b",
   "metadata": {},
   "source": [
    "# Data Science Tools and Ecosystem"
   ]
  },
  {
   "cell_type": "markdown",
   "id": "5d873f4d-701f-4df4-b57c-f2ec49a1173e",
   "metadata": {},
   "source": [
    "In this notebook, Data Science Tools and Ecosystem are summarized"
   ]
  },
  {
   "cell_type": "markdown",
   "id": "affad2d7-a433-47e2-a73b-155af605c38d",
   "metadata": {},
   "source": [
    "Some of the popular languages that Data Scientists use are:\n",
    "1. Python\n",
    "2. R\n",
    "3. Octave"
   ]
  },
  {
   "cell_type": "markdown",
   "id": "32181b3c-0f21-42a5-8045-9d88104c6dcf",
   "metadata": {},
   "source": [
    "Some of the commonly used libraries used by Data Scientists include:\n",
    "1. Numpy\n",
    "2. Pandas\n",
    "3. caret\n",
    "4. scikit learn"
   ]
  },
  {
   "cell_type": "markdown",
   "id": "ed3e62fa-ee08-4e49-b33b-03e5399107c7",
   "metadata": {},
   "source": [
    "|Data Science Tools|\n",
    "--------------------\n",
    "|RStudio|\n",
    "|TensorFlow|\n",
    "|RapidMiner|"
   ]
  },
  {
   "cell_type": "markdown",
   "id": "70ff5c8b-e770-4bb1-a4aa-16d38f288fb2",
   "metadata": {},
   "source": [
    "### Below are a few examples of evaluating arithmetic expressions in Python"
   ]
  },
  {
   "cell_type": "code",
   "execution_count": 1,
   "id": "065046bd-d35a-40a6-be35-0aee2b85dc29",
   "metadata": {
    "tags": []
   },
   "outputs": [
    {
     "data": {
      "text/plain": [
       "17"
      ]
     },
     "execution_count": 1,
     "metadata": {},
     "output_type": "execute_result"
    }
   ],
   "source": [
    "#This a simple arithmetic expression to mutiply then add integers\n",
    "(3*4)+5"
   ]
  },
  {
   "cell_type": "code",
   "execution_count": 2,
   "id": "e040f491-f7ca-425d-a46d-dffeb9e0d220",
   "metadata": {
    "tags": []
   },
   "outputs": [
    {
     "data": {
      "text/plain": [
       "3.3333333333333335"
      ]
     },
     "execution_count": 2,
     "metadata": {},
     "output_type": "execute_result"
    }
   ],
   "source": [
    "#This will convert 200 minutes to hours by diving by 60\n",
    "200/60"
   ]
  },
  {
   "cell_type": "markdown",
   "id": "512ea8a4-97eb-4ba6-9751-491137de64dc",
   "metadata": {},
   "source": [
    "**Objectives:**\n",
    "* List popular languages for Data Science\n",
    "* List popular tools for Data Science\n",
    "* List popular libraries for Data Science"
   ]
  },
  {
   "cell_type": "markdown",
   "id": "fbd9c686-2e22-4399-8189-bec147750726",
   "metadata": {},
   "source": [
    "## Author\n",
    "Raseswari Sarangi"
   ]
  },
  {
   "cell_type": "code",
   "execution_count": null,
   "id": "ba12ea8c-87ba-4fed-9568-78fa0b096ca8",
   "metadata": {},
   "outputs": [],
   "source": []
  }
 ],
 "metadata": {
  "kernelspec": {
   "display_name": "Python",
   "language": "python",
   "name": "conda-env-python-py"
  },
  "language_info": {
   "codemirror_mode": {
    "name": "ipython",
    "version": 3
   },
   "file_extension": ".py",
   "mimetype": "text/x-python",
   "name": "python",
   "nbconvert_exporter": "python",
   "pygments_lexer": "ipython3",
   "version": "3.7.12"
  }
 },
 "nbformat": 4,
 "nbformat_minor": 5
}
