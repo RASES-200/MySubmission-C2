{
    "cells": [
        {
            "cell_type": "markdown",
            "metadata": {},
            "source": "# My Jupyter Notebook on IBM Watson Studio"
        },
        {
            "cell_type": "markdown",
            "metadata": {},
            "source": "**Raseswari Sarangi**\n\nStudent Engineer"
        },
        {
            "cell_type": "markdown",
            "metadata": {},
            "source": "*I am interested in data science because\u2026*"
        },
        {
            "cell_type": "markdown",
            "metadata": {},
            "source": "### Code cell"
        },
        {
            "cell_type": "code",
            "execution_count": 1,
            "metadata": {},
            "outputs": [
                {
                    "data": {
                        "text/plain": "3"
                    },
                    "execution_count": 1,
                    "metadata": {},
                    "output_type": "execute_result"
                }
            ],
            "source": "1+1+1"
        },
        {
            "cell_type": "markdown",
            "metadata": {},
            "source": "Numbered List:\n1. one\n2. two\n3. three\n\nOrdered List:\n* one\n* two\n* three\n\n|Table|\n---------\n|One|\n|two|\n|three|\n\n[India](https://en.wikipedia.org/wiki/India)\n\n![Picture](https://drive.google.com/uc?export=view&id=11oNs4I5aHILYvVErEHV4bOxo9q60Pk-q)"
        },
        {
            "cell_type": "code",
            "execution_count": null,
            "metadata": {},
            "outputs": [],
            "source": ""
        }
    ],
    "metadata": {
        "kernelspec": {
            "display_name": "Python 3.10",
            "language": "python",
            "name": "python3"
        },
        "language_info": {
            "codemirror_mode": {
                "name": "ipython",
                "version": 3
            },
            "file_extension": ".py",
            "mimetype": "text/x-python",
            "name": "python",
            "nbconvert_exporter": "python",
            "pygments_lexer": "ipython3",
            "version": "3.10.9"
        }
    },
    "nbformat": 4,
    "nbformat_minor": 1
}